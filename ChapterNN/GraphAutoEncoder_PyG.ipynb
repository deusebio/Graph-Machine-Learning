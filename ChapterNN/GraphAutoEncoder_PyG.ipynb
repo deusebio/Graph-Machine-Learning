{
 "cells": [
  {
   "cell_type": "markdown",
   "id": "f5d647f0-6d7b-4e4b-b5cd-c674dba76a22",
   "metadata": {},
   "source": [
    "# Graph Auto Encoder with PyG"
   ]
  },
  {
   "cell_type": "code",
   "execution_count": 1,
   "id": "9403ccd6-3353-4edd-9ba2-beaab617afa3",
   "metadata": {},
   "outputs": [],
   "source": [
    "import argparse\n",
    "import os\n",
    "import time\n",
    "\n",
    "import torch\n",
    "\n",
    "import torch_geometric.transforms as T\n",
    "from torch_geometric.datasets import Planetoid\n",
    "\n",
    "from torch_geometric.nn import GAE, GCNConv"
   ]
  },
  {
   "cell_type": "code",
   "execution_count": 2,
   "id": "c80d137d-313f-4b8b-8473-c787a59c97ba",
   "metadata": {},
   "outputs": [],
   "source": [
    "device = torch.device('cpu')"
   ]
  },
  {
   "cell_type": "code",
   "execution_count": 3,
   "id": "2694e0b8-7ad2-4ab0-bd66-ec9e9615c9cc",
   "metadata": {},
   "outputs": [],
   "source": [
    "DATASET_NAME=\"Cora\""
   ]
  },
  {
   "cell_type": "code",
   "execution_count": 35,
   "id": "409d5939-8d16-4db9-a17f-c5cab6a2d4aa",
   "metadata": {},
   "outputs": [],
   "source": [
    "transform = T.Compose([\n",
    "    T.NormalizeFeatures(),\n",
    "    T.RandomLinkSplit(num_val=0., num_test=0.1, is_undirected=True,\n",
    "                      split_labels=True, add_negative_train_samples=False),\n",
    "])\n",
    "path = os.path.join(\"/home/deusebio/Personal/graph_machine_learning/data\", 'data')\n",
    "dataset = Planetoid(path, DATASET_NAME, transform=transform)\n",
    "train_data, val_data, test_data = dataset[0]"
   ]
  },
  {
   "cell_type": "code",
   "execution_count": 40,
   "id": "4fe46bed-054c-4f52-a4da-ed3728a3f41c",
   "metadata": {},
   "outputs": [
    {
     "name": "stdout",
     "output_type": "stream",
     "text": [
      "Train edges (positive): 4751\n",
      "Test edges (positive): 527\n",
      "Test edges (negative): 527\n"
     ]
    }
   ],
   "source": [
    "print(f\"Train edges (positive): {train_data.pos_edge_label_index.shape[1]}\")\n",
    "print(f\"Test edges (positive): {test_data.pos_edge_label_index.shape[1]}\")\n",
    "print(f\"Test edges (negative): {test_data.neg_edge_label_index.shape[1]}\")"
   ]
  },
  {
   "cell_type": "code",
   "execution_count": 5,
   "id": "dedf968d-6e87-451a-aaa2-972ce21f4aca",
   "metadata": {},
   "outputs": [],
   "source": [
    "class GCNEncoder(torch.nn.Module):\n",
    "    def __init__(self, num_node_features, num_embedding):\n",
    "        super().__init__()\n",
    "        self.conv1 = GCNConv(num_node_features, 2 * num_embedding)\n",
    "        self.conv2 = GCNConv(2 * num_embedding, num_embedding)\n",
    "\n",
    "    def forward(self, x, edge_index):\n",
    "        x = self.conv1(x, edge_index).relu()\n",
    "        return self.conv2(x, edge_index)"
   ]
  },
  {
   "cell_type": "code",
   "execution_count": 6,
   "id": "40de5839-fdf8-4935-b2d8-f46adb5ab4eb",
   "metadata": {},
   "outputs": [],
   "source": [
    "n_features = dataset.num_features\n",
    "n_embeddings = 20"
   ]
  },
  {
   "cell_type": "code",
   "execution_count": 7,
   "id": "b9240419-00b2-4f01-885a-169814989d21",
   "metadata": {},
   "outputs": [],
   "source": [
    "model = GAE(GCNEncoder(n_features, n_embeddings))"
   ]
  },
  {
   "cell_type": "code",
   "execution_count": 8,
   "id": "baa87287-e068-463f-9cb5-be032a2273ac",
   "metadata": {},
   "outputs": [],
   "source": [
    "model = model.to(device)\n",
    "optimizer = torch.optim.Adam(model.parameters(), lr=0.01)"
   ]
  },
  {
   "cell_type": "code",
   "execution_count": 9,
   "id": "da9b26c1-c070-4e98-a0a1-26783b0ed7d7",
   "metadata": {},
   "outputs": [
    {
     "name": "stdout",
     "output_type": "stream",
     "text": [
      "Performance on validation set => AUC: 0.7277003841874633 AP: 0.751380623617229\n",
      "Performance on validation set => AUC: 0.7216693251334934 AP: 0.7450836500826495\n",
      "Performance on validation set => AUC: 0.7201516586312556 AP: 0.7438195305144295\n",
      "Performance on validation set => AUC: 0.7177356343773966 AP: 0.7446658389934638\n",
      "Performance on validation set => AUC: 0.7144770621721173 AP: 0.7463040868711021\n",
      "Performance on validation set => AUC: 0.7097044240968714 AP: 0.7458711201460098\n",
      "Performance on validation set => AUC: 0.7041108418638313 AP: 0.7440737868933852\n",
      "Performance on validation set => AUC: 0.7006038260318512 AP: 0.7420508132883922\n",
      "Performance on validation set => AUC: 0.699102362374833 AP: 0.7411833809196392\n",
      "Performance on validation set => AUC: 0.6959626110344977 AP: 0.739441047817806\n",
      "Performance on validation set => AUC: 0.6908227084676068 AP: 0.7366122214404001\n",
      "Performance on validation set => AUC: 0.6845666098966978 AP: 0.7315068175571388\n",
      "Performance on validation set => AUC: 0.6838590856554411 AP: 0.7286263298388811\n",
      "Performance on validation set => AUC: 0.6893410482880794 AP: 0.7285815671202786\n",
      "Performance on validation set => AUC: 0.6931433159662838 AP: 0.7282093017037912\n",
      "Performance on validation set => AUC: 0.694403537261143 AP: 0.7276754550495566\n",
      "Performance on validation set => AUC: 0.7028074129817196 AP: 0.7291966869008787\n",
      "Performance on validation set => AUC: 0.720871785085461 AP: 0.7368339098384399\n",
      "Performance on validation set => AUC: 0.7357676007906988 AP: 0.7463957844698095\n",
      "Performance on validation set => AUC: 0.7428572457323506 AP: 0.7520377055912427\n"
     ]
    }
   ],
   "source": [
    "for epoch in range(20):  # loop over the dataset multiple times\n",
    "\n",
    "    model.train()\n",
    "\n",
    "    # zero the parameter gradients\n",
    "    optimizer.zero_grad()\n",
    "\n",
    "    z = model.encode(train_data.x, train_data.edge_index)\n",
    "    loss = model.recon_loss(z, train_data.pos_edge_label_index)\n",
    "\n",
    "    loss.backward()\n",
    "    optimizer.step()\n",
    "    \n",
    "    # Test/Evaluate\n",
    "    model.eval()\n",
    "    z = model.encode(test_data.x, test_data.edge_index)\n",
    "    auc, ap = model.test(z, test_data.pos_edge_label_index, test_data.neg_edge_label_index)\n",
    "    \n",
    "    print(f\"Performance on validation set => AUC: {auc} AP: {ap}\")"
   ]
  },
  {
   "cell_type": "code",
   "execution_count": null,
   "id": "43533588-03f7-45c9-8d97-1e618148a9c5",
   "metadata": {},
   "outputs": [],
   "source": []
  }
 ],
 "metadata": {
  "kernelspec": {
   "display_name": "graph-machine-learning-pyg",
   "language": "python",
   "name": "graph-machine-learning-pyg"
  },
  "language_info": {
   "codemirror_mode": {
    "name": "ipython",
    "version": 3
   },
   "file_extension": ".py",
   "mimetype": "text/x-python",
   "name": "python",
   "nbconvert_exporter": "python",
   "pygments_lexer": "ipython3",
   "version": "3.10.6"
  }
 },
 "nbformat": 4,
 "nbformat_minor": 5
}
