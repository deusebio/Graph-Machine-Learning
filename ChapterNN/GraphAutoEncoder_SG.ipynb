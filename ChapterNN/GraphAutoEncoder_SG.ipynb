{
 "cells": [
  {
   "cell_type": "markdown",
   "id": "393d1f8c-162d-43c6-9d3a-3e795bf6467a",
   "metadata": {},
   "source": [
    "# Graph AutoEncoder with StellarGraph"
   ]
  },
  {
   "cell_type": "code",
   "execution_count": 1,
   "id": "65a6d0fb-bb0f-4af0-8ba9-6a0c902cec49",
   "metadata": {},
   "outputs": [
    {
     "name": "stderr",
     "output_type": "stream",
     "text": [
      "2024-03-26 22:24:10.883232: W tensorflow/stream_executor/platform/default/dso_loader.cc:60] Could not load dynamic library 'libcudart.so.11.0'; dlerror: libcudart.so.11.0: cannot open shared object file: No such file or directory\n",
      "2024-03-26 22:24:10.883257: I tensorflow/stream_executor/cuda/cudart_stub.cc:29] Ignore above cudart dlerror if you do not have a GPU set up on your machine.\n",
      "2024-03-26 22:24:12.512415: I tensorflow/compiler/jit/xla_cpu_device.cc:41] Not creating XLA devices, tf_xla_enable_xla_devices not set\n",
      "2024-03-26 22:24:12.512592: W tensorflow/stream_executor/platform/default/dso_loader.cc:60] Could not load dynamic library 'libcuda.so.1'; dlerror: libcuda.so.1: cannot open shared object file: No such file or directory\n",
      "2024-03-26 22:24:12.512603: W tensorflow/stream_executor/cuda/cuda_driver.cc:326] failed call to cuInit: UNKNOWN ERROR (303)\n",
      "2024-03-26 22:24:12.512618: I tensorflow/stream_executor/cuda/cuda_diagnostics.cc:156] kernel driver does not appear to be running on this host (pelican): /proc/driver/nvidia/version does not exist\n",
      "2024-03-26 22:24:12.512878: I tensorflow/core/platform/cpu_feature_guard.cc:142] This TensorFlow binary is optimized with oneAPI Deep Neural Network Library (oneDNN) to use the following CPU instructions in performance-critical operations:  AVX512F\n",
      "To enable them in other operations, rebuild TensorFlow with the appropriate compiler flags.\n",
      "2024-03-26 22:24:12.513454: I tensorflow/compiler/jit/xla_gpu_device.cc:99] Not creating XLA devices, tf_xla_enable_xla_devices not set\n"
     ]
    }
   ],
   "source": [
    "from stellargraph.data import EdgeSplitter\n",
    "from stellargraph.mapper import FullBatchLinkGenerator\n",
    "from stellargraph.layer import GCN, LinkEmbedding\n",
    "\n",
    "\n",
    "from tensorflow import keras\n",
    "from stellargraph import datasets"
   ]
  },
  {
   "cell_type": "code",
   "execution_count": 2,
   "id": "1d27bd90-c522-48e2-9929-7417b3ce904b",
   "metadata": {},
   "outputs": [],
   "source": [
    "dataset = datasets.Cora()\n",
    "G, _ = dataset.load()"
   ]
  },
  {
   "cell_type": "code",
   "execution_count": 3,
   "id": "4e59277b-12b7-4e8f-9cdc-eaf4c96d1771",
   "metadata": {},
   "outputs": [
    {
     "name": "stdout",
     "output_type": "stream",
     "text": [
      "StellarGraph: Undirected multigraph\n",
      " Nodes: 2708, Edges: 5429\n",
      "\n",
      " Node types:\n",
      "  paper: [2708]\n",
      "    Features: float32 vector, length 1433\n",
      "    Edge types: paper-cites->paper\n",
      "\n",
      " Edge types:\n",
      "    paper-cites->paper: [5429]\n",
      "        Weights: all 1 (default)\n",
      "        Features: none\n"
     ]
    }
   ],
   "source": [
    "print(G.info())"
   ]
  },
  {
   "cell_type": "code",
   "execution_count": 4,
   "id": "4ab4de94-e416-49b2-8e02-5217d5f410e5",
   "metadata": {},
   "outputs": [
    {
     "name": "stdout",
     "output_type": "stream",
     "text": [
      "** Sampled 542 positive and 542 negative edges. **\n",
      "** Sampled 542 positive and 542 negative edges. **\n"
     ]
    }
   ],
   "source": [
    "edge_splitter_test = EdgeSplitter(G)\n",
    "\n",
    "G_test, edge_ids_test, edge_labels_test = edge_splitter_test.train_test_split(\n",
    "    p=0.1, method=\"global\", keep_connected=True\n",
    ")\n",
    "\n",
    "edge_splitter_train = EdgeSplitter(G_test)\n",
    "\n",
    "G_train, edge_ids_train, edge_labels_train = edge_splitter_test.train_test_split(\n",
    "    p=0.1, method=\"global\", keep_connected=True\n",
    ")"
   ]
  },
  {
   "cell_type": "code",
   "execution_count": 5,
   "id": "261e8cdd-455d-4607-a95c-c26ec6aaf109",
   "metadata": {},
   "outputs": [
    {
     "name": "stdout",
     "output_type": "stream",
     "text": [
      "Using GCN (local pooling) filters...\n"
     ]
    }
   ],
   "source": [
    "train_gen = FullBatchLinkGenerator(G, method=\"gcn\")\n",
    "train_flow = train_gen.flow(edge_ids_train, edge_labels_train)"
   ]
  },
  {
   "cell_type": "code",
   "execution_count": 6,
   "id": "5820186d-1728-494b-9e2c-6a906d7ff3f5",
   "metadata": {},
   "outputs": [
    {
     "name": "stdout",
     "output_type": "stream",
     "text": [
      "Using GCN (local pooling) filters...\n"
     ]
    }
   ],
   "source": [
    "test_gen = FullBatchLinkGenerator(G, method=\"gcn\")\n",
    "test_flow = train_gen.flow(edge_ids_test, edge_labels_test)"
   ]
  },
  {
   "cell_type": "code",
   "execution_count": 7,
   "id": "7897bc20-a2eb-4887-8bde-3ca5756cd62d",
   "metadata": {},
   "outputs": [],
   "source": [
    "gcn = GCN(\n",
    "    layer_sizes=[16, 16], activations=[\"relu\", \"relu\"], generator=train_gen, dropout=0.3\n",
    ")"
   ]
  },
  {
   "cell_type": "code",
   "execution_count": 8,
   "id": "c27562a4-9f93-4c23-87b1-ad3a0f46c19a",
   "metadata": {},
   "outputs": [],
   "source": [
    "x_inp, x_out = gcn.in_out_tensors()"
   ]
  },
  {
   "cell_type": "code",
   "execution_count": 9,
   "id": "b2d351e5-f815-4513-a05b-34ac571acc96",
   "metadata": {},
   "outputs": [
    {
     "data": {
      "text/plain": [
       "[<KerasTensor: shape=(1, 2708, 1433) dtype=float32 (created by layer 'input_1')>,\n",
       " <KerasTensor: shape=(1, None, 2) dtype=int32 (created by layer 'input_2')>,\n",
       " <KerasTensor: shape=(1, None, 2) dtype=int64 (created by layer 'input_3')>,\n",
       " <KerasTensor: shape=(1, None) dtype=float32 (created by layer 'input_4')>]"
      ]
     },
     "execution_count": 9,
     "metadata": {},
     "output_type": "execute_result"
    }
   ],
   "source": [
    "x_inp"
   ]
  },
  {
   "cell_type": "code",
   "execution_count": 10,
   "id": "be2d54a1-9561-410a-9c8f-54b805450dc3",
   "metadata": {},
   "outputs": [],
   "source": [
    "prediction = LinkEmbedding(activation=\"relu\", method=\"ip\")(x_out)"
   ]
  },
  {
   "cell_type": "code",
   "execution_count": 11,
   "id": "38cd0093-ef71-4110-8f59-43e510b86edc",
   "metadata": {},
   "outputs": [],
   "source": [
    "prediction = keras.layers.Reshape((-1,))(prediction)\n"
   ]
  },
  {
   "cell_type": "code",
   "execution_count": 12,
   "id": "33ccc882-df0c-40ad-a401-725b3a64aac3",
   "metadata": {},
   "outputs": [],
   "source": [
    "model = keras.Model(inputs=x_inp, outputs=prediction)\n",
    "\n",
    "model.compile(\n",
    "    optimizer=keras.optimizers.Adam(lr=0.01),\n",
    "    loss=keras.losses.binary_crossentropy,\n",
    "    metrics=[keras.metrics.Accuracy()],\n",
    ")"
   ]
  },
  {
   "cell_type": "code",
   "execution_count": 13,
   "id": "1dbc5d61-4e11-4ec8-bb06-8b206beb698d",
   "metadata": {},
   "outputs": [
    {
     "name": "stdout",
     "output_type": "stream",
     "text": [
      "Model: \"model\"\n",
      "__________________________________________________________________________________________________\n",
      "Layer (type)                    Output Shape         Param #     Connected to                     \n",
      "==================================================================================================\n",
      "input_1 (InputLayer)            [(1, 2708, 1433)]    0                                            \n",
      "__________________________________________________________________________________________________\n",
      "input_3 (InputLayer)            [(1, None, 2)]       0                                            \n",
      "__________________________________________________________________________________________________\n",
      "input_4 (InputLayer)            [(1, None)]          0                                            \n",
      "__________________________________________________________________________________________________\n",
      "dropout (Dropout)               (1, 2708, 1433)      0           input_1[0][0]                    \n",
      "__________________________________________________________________________________________________\n",
      "squeezed_sparse_conversion (Squ (2708, 2708)         0           input_3[0][0]                    \n",
      "                                                                 input_4[0][0]                    \n",
      "__________________________________________________________________________________________________\n",
      "graph_convolution (GraphConvolu (1, None, 16)        22944       dropout[0][0]                    \n",
      "                                                                 squeezed_sparse_conversion[0][0] \n",
      "__________________________________________________________________________________________________\n",
      "dropout_1 (Dropout)             (1, None, 16)        0           graph_convolution[0][0]          \n",
      "__________________________________________________________________________________________________\n",
      "graph_convolution_1 (GraphConvo (1, None, 16)        272         dropout_1[0][0]                  \n",
      "                                                                 squeezed_sparse_conversion[0][0] \n",
      "__________________________________________________________________________________________________\n",
      "input_2 (InputLayer)            [(1, None, 2)]       0                                            \n",
      "__________________________________________________________________________________________________\n",
      "gather_indices (GatherIndices)  (1, None, 2, 16)     0           graph_convolution_1[0][0]        \n",
      "                                                                 input_2[0][0]                    \n",
      "__________________________________________________________________________________________________\n",
      "link_embedding (LinkEmbedding)  (1, None, 1)         0           gather_indices[0][0]             \n",
      "__________________________________________________________________________________________________\n",
      "reshape (Reshape)               (1, None)            0           link_embedding[0][0]             \n",
      "==================================================================================================\n",
      "Total params: 23,216\n",
      "Trainable params: 23,216\n",
      "Non-trainable params: 0\n",
      "__________________________________________________________________________________________________\n"
     ]
    }
   ],
   "source": [
    "model.summary()"
   ]
  },
  {
   "cell_type": "code",
   "execution_count": 14,
   "id": "d5760e12-f39a-4ce8-8c9d-9ba8ae61d4ab",
   "metadata": {},
   "outputs": [
    {
     "name": "stderr",
     "output_type": "stream",
     "text": [
      "2024-03-26 22:24:31.547943: I tensorflow/compiler/mlir/mlir_graph_optimization_pass.cc:116] None of the MLIR optimization passes are enabled (registered 2)\n",
      "2024-03-26 22:24:31.548360: I tensorflow/core/platform/profile_utils/cpu_utils.cc:112] CPU Frequency: 2803200000 Hz\n"
     ]
    },
    {
     "name": "stdout",
     "output_type": "stream",
     "text": [
      "Epoch 1/50\n",
      "1/1 [==============================] - 2s 2s/step - loss: 1.6882 - accuracy: 0.0000e+00 - val_loss: 1.7383 - val_accuracy: 0.0000e+00\n",
      "Epoch 2/50\n",
      "1/1 [==============================] - 0s 141ms/step - loss: 1.8908 - accuracy: 0.0000e+00 - val_loss: 0.5827 - val_accuracy: 0.0000e+00\n",
      "Epoch 3/50\n",
      "1/1 [==============================] - 0s 119ms/step - loss: 0.6209 - accuracy: 0.0000e+00 - val_loss: 0.6141 - val_accuracy: 0.0000e+00\n",
      "Epoch 4/50\n",
      "1/1 [==============================] - 0s 133ms/step - loss: 0.6203 - accuracy: 0.0000e+00 - val_loss: 0.5935 - val_accuracy: 0.0000e+00\n",
      "Epoch 5/50\n",
      "1/1 [==============================] - 0s 118ms/step - loss: 0.5852 - accuracy: 0.0000e+00 - val_loss: 0.5622 - val_accuracy: 0.0000e+00\n",
      "Epoch 6/50\n",
      "1/1 [==============================] - 0s 143ms/step - loss: 0.5834 - accuracy: 0.0000e+00 - val_loss: 0.6076 - val_accuracy: 0.0000e+00\n",
      "Epoch 7/50\n",
      "1/1 [==============================] - 0s 151ms/step - loss: 0.6186 - accuracy: 0.0000e+00 - val_loss: 0.5933 - val_accuracy: 0.0000e+00\n",
      "Epoch 8/50\n",
      "1/1 [==============================] - 0s 151ms/step - loss: 0.6016 - accuracy: 0.0000e+00 - val_loss: 0.5303 - val_accuracy: 0.0000e+00\n",
      "Epoch 9/50\n",
      "1/1 [==============================] - 0s 142ms/step - loss: 0.5133 - accuracy: 0.0000e+00 - val_loss: 0.5154 - val_accuracy: 0.0000e+00\n",
      "Epoch 10/50\n",
      "1/1 [==============================] - 0s 156ms/step - loss: 0.4653 - accuracy: 0.0000e+00 - val_loss: 0.5081 - val_accuracy: 0.0000e+00\n",
      "Epoch 11/50\n",
      "1/1 [==============================] - 0s 143ms/step - loss: 0.4649 - accuracy: 0.0000e+00 - val_loss: 0.4928 - val_accuracy: 0.0000e+00\n",
      "Epoch 12/50\n",
      "1/1 [==============================] - 0s 180ms/step - loss: 0.4290 - accuracy: 0.0000e+00 - val_loss: 0.5021 - val_accuracy: 0.0000e+00\n",
      "Epoch 13/50\n",
      "1/1 [==============================] - 0s 154ms/step - loss: 0.4325 - accuracy: 0.0000e+00 - val_loss: 0.5347 - val_accuracy: 0.0000e+00\n",
      "Epoch 14/50\n",
      "1/1 [==============================] - 0s 148ms/step - loss: 0.4542 - accuracy: 0.0000e+00 - val_loss: 0.5257 - val_accuracy: 0.0000e+00\n",
      "Epoch 15/50\n",
      "1/1 [==============================] - 0s 181ms/step - loss: 0.4333 - accuracy: 0.0000e+00 - val_loss: 0.5296 - val_accuracy: 0.0000e+00\n",
      "Epoch 16/50\n",
      "1/1 [==============================] - 0s 127ms/step - loss: 0.3915 - accuracy: 0.0000e+00 - val_loss: 0.5193 - val_accuracy: 0.0000e+00\n",
      "Epoch 17/50\n",
      "1/1 [==============================] - 0s 153ms/step - loss: 0.4048 - accuracy: 0.0000e+00 - val_loss: 0.5003 - val_accuracy: 0.0000e+00\n",
      "Epoch 18/50\n",
      "1/1 [==============================] - 0s 144ms/step - loss: 0.3717 - accuracy: 0.0000e+00 - val_loss: 0.4880 - val_accuracy: 0.0000e+00\n",
      "Epoch 19/50\n",
      "1/1 [==============================] - 0s 149ms/step - loss: 0.3609 - accuracy: 0.0000e+00 - val_loss: 0.4703 - val_accuracy: 0.0000e+00\n",
      "Epoch 20/50\n",
      "1/1 [==============================] - 0s 163ms/step - loss: 0.3517 - accuracy: 0.0000e+00 - val_loss: 0.4699 - val_accuracy: 0.0000e+00\n",
      "Epoch 21/50\n",
      "1/1 [==============================] - 0s 159ms/step - loss: 0.3217 - accuracy: 9.2251e-04 - val_loss: 0.4844 - val_accuracy: 0.0000e+00\n",
      "Epoch 22/50\n",
      "1/1 [==============================] - 0s 156ms/step - loss: 0.3142 - accuracy: 0.0000e+00 - val_loss: 0.4799 - val_accuracy: 0.0000e+00\n",
      "Epoch 23/50\n",
      "1/1 [==============================] - 0s 140ms/step - loss: 0.3262 - accuracy: 0.0000e+00 - val_loss: 0.4828 - val_accuracy: 0.0000e+00\n",
      "Epoch 24/50\n",
      "1/1 [==============================] - 0s 152ms/step - loss: 0.3127 - accuracy: 0.0000e+00 - val_loss: 0.5366 - val_accuracy: 0.0000e+00\n",
      "Epoch 25/50\n",
      "1/1 [==============================] - 0s 172ms/step - loss: 0.3006 - accuracy: 0.0000e+00 - val_loss: 0.5472 - val_accuracy: 0.0000e+00\n",
      "Epoch 26/50\n",
      "1/1 [==============================] - 0s 154ms/step - loss: 0.2899 - accuracy: 0.0028 - val_loss: 0.5419 - val_accuracy: 0.0018\n",
      "Epoch 27/50\n",
      "1/1 [==============================] - 0s 157ms/step - loss: 0.2655 - accuracy: 9.2251e-04 - val_loss: 0.5343 - val_accuracy: 0.0028\n",
      "Epoch 28/50\n",
      "1/1 [==============================] - 0s 156ms/step - loss: 0.2753 - accuracy: 9.2251e-04 - val_loss: 0.5077 - val_accuracy: 0.0028\n",
      "Epoch 29/50\n",
      "1/1 [==============================] - 0s 145ms/step - loss: 0.2845 - accuracy: 0.0037 - val_loss: 0.5149 - val_accuracy: 0.0037\n",
      "Epoch 30/50\n",
      "1/1 [==============================] - 0s 176ms/step - loss: 0.2783 - accuracy: 0.0018 - val_loss: 0.5109 - val_accuracy: 0.0037\n",
      "Epoch 31/50\n",
      "1/1 [==============================] - 0s 160ms/step - loss: 0.2469 - accuracy: 0.0018 - val_loss: 0.5074 - val_accuracy: 0.0037\n",
      "Epoch 32/50\n",
      "1/1 [==============================] - 0s 156ms/step - loss: 0.2400 - accuracy: 0.0074 - val_loss: 0.4971 - val_accuracy: 0.0046\n",
      "Epoch 33/50\n",
      "1/1 [==============================] - 0s 150ms/step - loss: 0.2700 - accuracy: 0.0074 - val_loss: 0.5178 - val_accuracy: 0.0046\n",
      "Epoch 34/50\n",
      "1/1 [==============================] - 0s 155ms/step - loss: 0.2267 - accuracy: 0.0046 - val_loss: 0.5466 - val_accuracy: 0.0046\n",
      "Epoch 35/50\n",
      "1/1 [==============================] - 0s 158ms/step - loss: 0.2224 - accuracy: 0.0083 - val_loss: 0.5895 - val_accuracy: 0.0055\n",
      "Epoch 36/50\n",
      "1/1 [==============================] - 0s 133ms/step - loss: 0.2350 - accuracy: 0.0046 - val_loss: 0.5903 - val_accuracy: 0.0055\n",
      "Epoch 37/50\n",
      "1/1 [==============================] - 0s 142ms/step - loss: 0.2131 - accuracy: 9.2251e-04 - val_loss: 0.5747 - val_accuracy: 0.0055\n",
      "Epoch 38/50\n",
      "1/1 [==============================] - 0s 141ms/step - loss: 0.2016 - accuracy: 0.0065 - val_loss: 0.5795 - val_accuracy: 0.0055\n",
      "Epoch 39/50\n",
      "1/1 [==============================] - 0s 129ms/step - loss: 0.2163 - accuracy: 0.0092 - val_loss: 0.5663 - val_accuracy: 0.0065\n",
      "Epoch 40/50\n",
      "1/1 [==============================] - 0s 155ms/step - loss: 0.2023 - accuracy: 0.0092 - val_loss: 0.5394 - val_accuracy: 0.0074\n",
      "Epoch 41/50\n",
      "1/1 [==============================] - 0s 149ms/step - loss: 0.1796 - accuracy: 0.0065 - val_loss: 0.5251 - val_accuracy: 0.0083\n",
      "Epoch 42/50\n",
      "1/1 [==============================] - 0s 168ms/step - loss: 0.1821 - accuracy: 0.0055 - val_loss: 0.5035 - val_accuracy: 0.0111\n",
      "Epoch 43/50\n",
      "1/1 [==============================] - 0s 167ms/step - loss: 0.1816 - accuracy: 0.0129 - val_loss: 0.5020 - val_accuracy: 0.0101\n",
      "Epoch 44/50\n",
      "1/1 [==============================] - 0s 169ms/step - loss: 0.1848 - accuracy: 0.0268 - val_loss: 0.5433 - val_accuracy: 0.0101\n",
      "Epoch 45/50\n",
      "1/1 [==============================] - 0s 156ms/step - loss: 0.1770 - accuracy: 0.0120 - val_loss: 0.5609 - val_accuracy: 0.0111\n",
      "Epoch 46/50\n",
      "1/1 [==============================] - 0s 155ms/step - loss: 0.1797 - accuracy: 0.0240 - val_loss: 0.6091 - val_accuracy: 0.0120\n",
      "Epoch 47/50\n",
      "1/1 [==============================] - 0s 222ms/step - loss: 0.1700 - accuracy: 0.0185 - val_loss: 0.6592 - val_accuracy: 0.0111\n",
      "Epoch 48/50\n",
      "1/1 [==============================] - 0s 146ms/step - loss: 0.1614 - accuracy: 0.0175 - val_loss: 0.6343 - val_accuracy: 0.0129\n",
      "Epoch 49/50\n",
      "1/1 [==============================] - 0s 171ms/step - loss: 0.1621 - accuracy: 0.0175 - val_loss: 0.6362 - val_accuracy: 0.0148\n",
      "Epoch 50/50\n",
      "1/1 [==============================] - 0s 140ms/step - loss: 0.1530 - accuracy: 0.0212 - val_loss: 0.6338 - val_accuracy: 0.0138\n"
     ]
    }
   ],
   "source": [
    "history = model.fit(train_flow, validation_data=test_flow, epochs=50)"
   ]
  },
  {
   "cell_type": "code",
   "execution_count": null,
   "id": "4d6f0caf-529a-4609-ade3-61715426e4b3",
   "metadata": {},
   "outputs": [],
   "source": []
  }
 ],
 "metadata": {
  "kernelspec": {
   "display_name": "graph-machine-learning-sg",
   "language": "python",
   "name": "graph-machine-learning-sg"
  },
  "language_info": {
   "codemirror_mode": {
    "name": "ipython",
    "version": 3
   },
   "file_extension": ".py",
   "mimetype": "text/x-python",
   "name": "python",
   "nbconvert_exporter": "python",
   "pygments_lexer": "ipython3",
   "version": "3.8.14"
  }
 },
 "nbformat": 4,
 "nbformat_minor": 5
}
