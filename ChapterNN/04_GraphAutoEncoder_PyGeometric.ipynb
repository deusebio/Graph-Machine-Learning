{
 "cells": [
  {
   "cell_type": "markdown",
   "id": "f5d647f0-6d7b-4e4b-b5cd-c674dba76a22",
   "metadata": {},
   "source": [
    "# Graph Auto Encoder with PyG"
   ]
  },
  {
   "cell_type": "code",
   "execution_count": 1,
   "id": "9403ccd6-3353-4edd-9ba2-beaab617afa3",
   "metadata": {},
   "outputs": [],
   "source": [
    "import argparse\n",
    "import os\n",
    "import time\n",
    "\n",
    "import torch\n",
    "\n",
    "import torch_geometric.transforms as T\n",
    "from torch_geometric.datasets import Planetoid\n",
    "\n",
    "from torch_geometric.nn import GAE, GCNConv"
   ]
  },
  {
   "cell_type": "code",
   "execution_count": 2,
   "id": "c80d137d-313f-4b8b-8473-c787a59c97ba",
   "metadata": {},
   "outputs": [],
   "source": [
    "device = torch.device('cpu')"
   ]
  },
  {
   "cell_type": "code",
   "execution_count": 3,
   "id": "2694e0b8-7ad2-4ab0-bd66-ec9e9615c9cc",
   "metadata": {},
   "outputs": [],
   "source": [
    "DATASET_NAME=\"Cora\""
   ]
  },
  {
   "cell_type": "code",
   "execution_count": 4,
   "id": "409d5939-8d16-4db9-a17f-c5cab6a2d4aa",
   "metadata": {},
   "outputs": [
    {
     "name": "stderr",
     "output_type": "stream",
     "text": [
      "Downloading https://github.com/kimiyoung/planetoid/raw/master/data/ind.cora.x\n",
      "Downloading https://github.com/kimiyoung/planetoid/raw/master/data/ind.cora.tx\n",
      "Downloading https://github.com/kimiyoung/planetoid/raw/master/data/ind.cora.allx\n",
      "Downloading https://github.com/kimiyoung/planetoid/raw/master/data/ind.cora.y\n",
      "Downloading https://github.com/kimiyoung/planetoid/raw/master/data/ind.cora.ty\n",
      "Downloading https://github.com/kimiyoung/planetoid/raw/master/data/ind.cora.ally\n",
      "Downloading https://github.com/kimiyoung/planetoid/raw/master/data/ind.cora.graph\n",
      "Downloading https://github.com/kimiyoung/planetoid/raw/master/data/ind.cora.test.index\n",
      "Processing...\n",
      "Done!\n"
     ]
    }
   ],
   "source": [
    "transform = T.Compose([\n",
    "    T.NormalizeFeatures(),\n",
    "    T.RandomLinkSplit(num_val=0., num_test=0.1, is_undirected=True,\n",
    "                      split_labels=True, add_negative_train_samples=False),\n",
    "])\n",
    "# path = os.path.join(\"/home/deusebio/Personal/graph_machine_learning/data\", 'data')\n",
    "path = os.path.join(os.getcwd(), 'data')\n",
    "dataset = Planetoid(path, DATASET_NAME, transform=transform)\n",
    "train_data, val_data, test_data = dataset[0]"
   ]
  },
  {
   "cell_type": "code",
   "execution_count": 5,
   "id": "4fe46bed-054c-4f52-a4da-ed3728a3f41c",
   "metadata": {},
   "outputs": [
    {
     "name": "stdout",
     "output_type": "stream",
     "text": [
      "Train edges (positive): 4751\n",
      "Test edges (positive): 527\n",
      "Test edges (negative): 527\n"
     ]
    }
   ],
   "source": [
    "print(f\"Train edges (positive): {train_data.pos_edge_label_index.shape[1]}\")\n",
    "print(f\"Test edges (positive): {test_data.pos_edge_label_index.shape[1]}\")\n",
    "print(f\"Test edges (negative): {test_data.neg_edge_label_index.shape[1]}\")"
   ]
  },
  {
   "cell_type": "code",
   "execution_count": 6,
   "id": "dedf968d-6e87-451a-aaa2-972ce21f4aca",
   "metadata": {},
   "outputs": [],
   "source": [
    "class GCNEncoder(torch.nn.Module):\n",
    "    def __init__(self, num_node_features, num_embedding):\n",
    "        super().__init__()\n",
    "        self.conv1 = GCNConv(num_node_features, 2 * num_embedding)\n",
    "        self.conv2 = GCNConv(2 * num_embedding, num_embedding)\n",
    "\n",
    "    def forward(self, x, edge_index):\n",
    "        x = self.conv1(x, edge_index).relu()\n",
    "        return self.conv2(x, edge_index)"
   ]
  },
  {
   "cell_type": "code",
   "execution_count": 7,
   "id": "40de5839-fdf8-4935-b2d8-f46adb5ab4eb",
   "metadata": {},
   "outputs": [],
   "source": [
    "n_features = dataset.num_features\n",
    "n_embeddings = 20"
   ]
  },
  {
   "cell_type": "code",
   "execution_count": 8,
   "id": "b9240419-00b2-4f01-885a-169814989d21",
   "metadata": {},
   "outputs": [],
   "source": [
    "model = GAE(GCNEncoder(n_features, n_embeddings))"
   ]
  },
  {
   "cell_type": "code",
   "execution_count": 9,
   "id": "baa87287-e068-463f-9cb5-be032a2273ac",
   "metadata": {},
   "outputs": [],
   "source": [
    "model = model.to(device)\n",
    "optimizer = torch.optim.Adam(model.parameters(), lr=0.01)"
   ]
  },
  {
   "cell_type": "code",
   "execution_count": 10,
   "id": "da9b26c1-c070-4e98-a0a1-26783b0ed7d7",
   "metadata": {},
   "outputs": [
    {
     "name": "stdout",
     "output_type": "stream",
     "text": [
      "Performance on validation set => AUC: 0.7031746774733644 AP: 0.7408616667192883\n",
      "Performance on validation set => AUC: 0.7003589830374215 AP: 0.7384835516148203\n",
      "Performance on validation set => AUC: 0.7003733855665054 AP: 0.7387001033670365\n",
      "Performance on validation set => AUC: 0.6996730625897907 AP: 0.738915861615899\n",
      "Performance on validation set => AUC: 0.6991419693298143 AP: 0.7400909179536861\n",
      "Performance on validation set => AUC: 0.6968951747926936 AP: 0.7390546559098561\n",
      "Performance on validation set => AUC: 0.6940110683436012 AP: 0.7372227705695125\n",
      "Performance on validation set => AUC: 0.6927454461003353 AP: 0.7363419854717088\n",
      "Performance on validation set => AUC: 0.6914996273345599 AP: 0.7352590765202852\n",
      "Performance on validation set => AUC: 0.6898955456578175 AP: 0.7340942320131665\n",
      "Performance on validation set => AUC: 0.6872166752481736 AP: 0.732318689778636\n",
      "Performance on validation set => AUC: 0.6841309333919037 AP: 0.7299620245428802\n",
      "Performance on validation set => AUC: 0.6819381483388482 AP: 0.7270163059853674\n",
      "Performance on validation set => AUC: 0.6836376467707729 AP: 0.7255128311516903\n",
      "Performance on validation set => AUC: 0.6872274771449867 AP: 0.7248374222962018\n",
      "Performance on validation set => AUC: 0.68846609464622 AP: 0.7243764493545095\n",
      "Performance on validation set => AUC: 0.6905256563052472 AP: 0.7244887283857175\n",
      "Performance on validation set => AUC: 0.7001321432043466 AP: 0.7275928498612678\n",
      "Performance on validation set => AUC: 0.7236262687727965 AP: 0.7386152752055015\n",
      "Performance on validation set => AUC: 0.7473868411293023 AP: 0.7544830827529333\n"
     ]
    }
   ],
   "source": [
    "for epoch in range(20):  # loop over the dataset multiple times\n",
    "\n",
    "    model.train()\n",
    "\n",
    "    # zero the parameter gradients\n",
    "    optimizer.zero_grad()\n",
    "\n",
    "    z = model.encode(train_data.x, train_data.edge_index)\n",
    "    loss = model.recon_loss(z, train_data.pos_edge_label_index)\n",
    "\n",
    "    loss.backward()\n",
    "    optimizer.step()\n",
    "    \n",
    "    # Test/Evaluate\n",
    "    model.eval()\n",
    "    z = model.encode(test_data.x, test_data.edge_index)\n",
    "    auc, ap = model.test(z, test_data.pos_edge_label_index, test_data.neg_edge_label_index)\n",
    "    \n",
    "    print(f\"Performance on validation set => AUC: {auc} AP: {ap}\")"
   ]
  },
  {
   "cell_type": "code",
   "execution_count": null,
   "id": "43533588-03f7-45c9-8d97-1e618148a9c5",
   "metadata": {},
   "outputs": [],
   "source": []
  }
 ],
 "metadata": {
  "kernelspec": {
   "display_name": "py3.8",
   "language": "python",
   "name": "py3.8"
  },
  "language_info": {
   "codemirror_mode": {
    "name": "ipython",
    "version": 3
   },
   "file_extension": ".py",
   "mimetype": "text/x-python",
   "name": "python",
   "nbconvert_exporter": "python",
   "pygments_lexer": "ipython3",
   "version": "3.8.10"
  }
 },
 "nbformat": 4,
 "nbformat_minor": 5
}
